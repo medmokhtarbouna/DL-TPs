{
 "cells": [
  {
   "cell_type": "markdown",
   "id": "55cc47ef-43cc-41fa-9ff5-a7c424e9a0ce",
   "metadata": {},
   "source": [
    "# TP2 – Classification Binaire avec PyTorch"
   ]
  },
  {
   "cell_type": "markdown",
   "id": "e11b55fa-0c75-4f5c-b040-5874333abc85",
   "metadata": {},
   "source": [
    "## Étape 1 : Chargement du dataset (Kaggle)"
   ]
  },
  {
   "cell_type": "markdown",
   "id": "4d0fecf8-e123-40f9-9906-124b2b7a479d",
   "metadata": {},
   "source": [
    "### Chargement et préparation initiale"
   ]
  },
  {
   "cell_type": "code",
   "execution_count": 72,
   "id": "d871b2b2-a38e-4cb4-8d3f-94bcecbc5d88",
   "metadata": {},
   "outputs": [
    {
     "name": "stdout",
     "output_type": "stream",
     "text": [
      "         id diagnosis  radius_mean  texture_mean  perimeter_mean  area_mean  \\\n",
      "0    842302         M        17.99         10.38          122.80     1001.0   \n",
      "1    842517         M        20.57         17.77          132.90     1326.0   \n",
      "2  84300903         M        19.69         21.25          130.00     1203.0   \n",
      "3  84348301         M        11.42         20.38           77.58      386.1   \n",
      "4  84358402         M        20.29         14.34          135.10     1297.0   \n",
      "\n",
      "   smoothness_mean  compactness_mean  concavity_mean  concave points_mean  \\\n",
      "0          0.11840           0.27760          0.3001              0.14710   \n",
      "1          0.08474           0.07864          0.0869              0.07017   \n",
      "2          0.10960           0.15990          0.1974              0.12790   \n",
      "3          0.14250           0.28390          0.2414              0.10520   \n",
      "4          0.10030           0.13280          0.1980              0.10430   \n",
      "\n",
      "   ...  texture_worst  perimeter_worst  area_worst  smoothness_worst  \\\n",
      "0  ...          17.33           184.60      2019.0            0.1622   \n",
      "1  ...          23.41           158.80      1956.0            0.1238   \n",
      "2  ...          25.53           152.50      1709.0            0.1444   \n",
      "3  ...          26.50            98.87       567.7            0.2098   \n",
      "4  ...          16.67           152.20      1575.0            0.1374   \n",
      "\n",
      "   compactness_worst  concavity_worst  concave points_worst  symmetry_worst  \\\n",
      "0             0.6656           0.7119                0.2654          0.4601   \n",
      "1             0.1866           0.2416                0.1860          0.2750   \n",
      "2             0.4245           0.4504                0.2430          0.3613   \n",
      "3             0.8663           0.6869                0.2575          0.6638   \n",
      "4             0.2050           0.4000                0.1625          0.2364   \n",
      "\n",
      "   fractal_dimension_worst  Unnamed: 32  \n",
      "0                  0.11890          NaN  \n",
      "1                  0.08902          NaN  \n",
      "2                  0.08758          NaN  \n",
      "3                  0.17300          NaN  \n",
      "4                  0.07678          NaN  \n",
      "\n",
      "[5 rows x 33 columns]\n",
      "diagnosis\n",
      "0    357\n",
      "1    212\n",
      "Name: count, dtype: int64\n"
     ]
    }
   ],
   "source": [
    "import pandas as pd\n",
    "\n",
    "# Charger les données (à adapter si fichier local)\n",
    "df = pd.read_csv(\"../data/raw/data.csv\")\n",
    "\n",
    "# Afficher les premières lignes\n",
    "print(df.head())\n",
    "\n",
    "# Supprimer les colonnes inutiles (ex: id, unnamed)\n",
    "df = df.drop(columns=[\"id\", \"Unnamed: 32\"])\n",
    "\n",
    "# Encoder la colonne cible : M = 1 (malin), B = 0 (bénin)\n",
    "df[\"diagnosis\"] = df[\"diagnosis\"].map({\"M\": 1, \"B\": 0})\n",
    "\n",
    "# Vérifier la répartition des classes\n",
    "print(df[\"diagnosis\"].value_counts())\n"
   ]
  },
  {
   "cell_type": "markdown",
   "id": "9d9b9dd0-d055-4507-be03-d1f8bf1678de",
   "metadata": {},
   "source": [
    "### Questions – Étape 1 :\n",
    "\n",
    "**Pourquoi ce dataset est-il adapté à une classification binaire ?**  \n",
    "Parce que la colonne cible contient deux classes : M (Malin) et B (Bénin), ce qui correspond parfaitement à un problème de classification binaire.\n",
    "\n",
    "**Pourquoi faut-il encoder les valeurs M/B en 1/0 ?**  \n",
    "Les modèles de deep learning exigent des données numériques. Le codage en 1/0 permet d’utiliser une fonction de perte binaire (BCELoss) et une sortie sigmoid.\n",
    "\n",
    "**Quelles colonnes sont inutiles ici ? Pourquoi ?**  \n",
    "La colonne 'id' est un identifiant sans valeur prédictive. La colonne 'Unnamed: 32' est vide ou non pertinente.\n"
   ]
  },
  {
   "cell_type": "markdown",
   "id": "068b5855-b79c-4584-ba81-5612509c1307",
   "metadata": {},
   "source": [
    "## Étape 2 : Préparation des données"
   ]
  },
  {
   "cell_type": "code",
   "execution_count": 76,
   "id": "3065fec3-3d4f-4cd5-8184-c59a57abcd30",
   "metadata": {},
   "outputs": [],
   "source": [
    "from sklearn.model_selection import train_test_split\n",
    "from sklearn.preprocessing import StandardScaler\n",
    "import torch\n",
    "from torch.utils.data import TensorDataset, DataLoader\n",
    "\n",
    "# 1. Séparer les features et la cible\n",
    "X = df.drop(\"diagnosis\", axis=1).values\n",
    "y = df[\"diagnosis\"].values\n",
    "\n",
    "# 2. Standardiser les données\n",
    "scaler = StandardScaler()\n",
    "X_scaled = scaler.fit_transform(X)\n",
    "\n",
    "# 3. Diviser en train/val/test (60/20/20) avec stratification\n",
    "X_train, X_temp, y_train, y_temp = train_test_split(\n",
    "    X_scaled, y, test_size=0.4, random_state=42, stratify=y\n",
    ")\n",
    "X_val, X_test, y_val, y_test = train_test_split(\n",
    "    X_temp, y_temp, test_size=0.5, random_state=42, stratify=y_temp\n",
    ")\n",
    "\n",
    "# 4. Conversion en tenseurs PyTorch\n",
    "X_train_tensor = torch.tensor(X_train, dtype=torch.float32)\n",
    "y_train_tensor = torch.tensor(y_train, dtype=torch.float32).unsqueeze(1)\n",
    "\n",
    "X_val_tensor = torch.tensor(X_val, dtype=torch.float32)\n",
    "y_val_tensor = torch.tensor(y_val, dtype=torch.float32).unsqueeze(1)\n",
    "\n",
    "X_test_tensor = torch.tensor(X_test, dtype=torch.float32)\n",
    "y_test_tensor = torch.tensor(y_test, dtype=torch.float32).unsqueeze(1)\n",
    "\n",
    "# 5. Créer des DataLoaders\n",
    "train_dataset = TensorDataset(X_train_tensor, y_train_tensor)\n",
    "val_dataset = TensorDataset(X_val_tensor, y_val_tensor)\n",
    "test_dataset = TensorDataset(X_test_tensor, y_test_tensor)\n",
    "\n",
    "train_loader = DataLoader(train_dataset, batch_size=32, shuffle=True)\n",
    "val_loader = DataLoader(val_dataset, batch_size=32)\n",
    "test_loader = DataLoader(test_dataset, batch_size=32)\n"
   ]
  },
  {
   "cell_type": "markdown",
   "id": "cc2eac15-01f5-4cb2-a608-0d82b75e16b9",
   "metadata": {},
   "source": [
    "### Questions – Étape 2 :\n",
    "\n",
    "**Pourquoi standardise-t-on les données ?**  \n",
    "La standardisation garantit que toutes les variables ont une échelle comparable, ce qui facilite la convergence de l’optimiseur.\n",
    "\n",
    "**Pourquoi séparer en validation et non juste train/test ?**  \n",
    "La validation sert à surveiller le surapprentissage (overfitting) pendant l’entraînement et à ajuster les hyperparamètres sans toucher aux données de test.\n",
    "\n",
    "**Quel est l'intérêt de stratifier les splits ?**  \n",
    "La stratification permet de conserver la même proportion des classes dans chaque sous-ensemble (train, validation, test).\n"
   ]
  },
  {
   "cell_type": "markdown",
   "id": "deb03a90-78fc-49cd-8c5f-7f136d5077f4",
   "metadata": {},
   "source": [
    "## Étape 3 : Définition du modèle avec Dropout"
   ]
  },
  {
   "cell_type": "code",
   "execution_count": 80,
   "id": "7abb752c-4dd0-4021-88c6-37d59cc1c7fb",
   "metadata": {},
   "outputs": [],
   "source": [
    "import torch.nn as nn\n",
    "\n",
    "# Définir le modèle\n",
    "model = nn.Sequential(\n",
    "    nn.Linear(X_train_tensor.shape[1], 64),  # couche d'entrée → 64 neurones\n",
    "    nn.ReLU(),\n",
    "    nn.Dropout(0.3),                         # taux de Dropout = 30%\n",
    "\n",
    "    nn.Linear(64, 32),                       # couche cachée → 32 neurones\n",
    "    nn.ReLU(),\n",
    "    nn.Dropout(0.3),\n",
    "\n",
    "    nn.Linear(32, 1),                        # sortie binaire\n",
    "    nn.Sigmoid()\n",
    ")"
   ]
  },
  {
   "cell_type": "markdown",
   "id": "d97fe8ef-31b2-4480-85d3-444c9d4d0eb2",
   "metadata": {},
   "source": [
    "### Questions – Étape 3 :\n",
    "\n",
    "**Quel est l'effet du Dropout sur l'entraînement ?**  \n",
    "Il réduit le surapprentissage en désactivant aléatoirement certaines unités pendant l'entraînement.\n",
    "\n",
    "**Essayez avec différents taux (0%, 30%, 50%). Que remarquez-vous ?**  \n",
    "Un taux nul favorise l'overfitting, un taux élevé (50%) peut réduire la performance si la capacité du modèle est déjà faible.\n",
    "\n",
    "**Pourquoi utilise-t-on ReLU dans les couches cachées ? Et Sigmoïde en sortie ?**  \n",
    "ReLU est rapide et efficace pour les couches internes. Sigmoïde est adaptée pour une sortie entre 0 et 1 (classification binaire).\n"
   ]
  },
  {
   "cell_type": "markdown",
   "id": "f64de260-cd58-4cb7-8198-5e7d0e49abbb",
   "metadata": {},
   "source": [
    "## Étape 4 : Fonction de perte, optimiseur, EarlyStopping"
   ]
  },
  {
   "cell_type": "markdown",
   "id": "17d466c8-d10b-4d39-bcf9-2615d60db574",
   "metadata": {},
   "source": [
    "#### compilation du modèle"
   ]
  },
  {
   "cell_type": "code",
   "execution_count": 85,
   "id": "173e0670-e3f0-4364-9890-0e5776de4be4",
   "metadata": {},
   "outputs": [],
   "source": [
    "import torch.optim as optim\n",
    "\n",
    "# Fonction de perte\n",
    "criterion = nn.BCELoss()\n",
    "\n",
    "# Optimiseur Adam\n",
    "optimizer = optim.Adam(model.parameters(), lr=0.001)\n",
    "optimizer = optim.Adam(model.parameters(), lr=0.001, weight_decay=1e-4)"
   ]
  },
  {
   "cell_type": "markdown",
   "id": "5ea9a026-2f38-4f97-9816-444643a60e6f",
   "metadata": {},
   "source": [
    "### Implémentation de l’EarlyStopping"
   ]
  },
  {
   "cell_type": "markdown",
   "id": "f6baa5cc-4e9c-483c-b369-af56ec732735",
   "metadata": {},
   "source": [
    "#### Classe EarlyStopping personnalisée"
   ]
  },
  {
   "cell_type": "code",
   "execution_count": 89,
   "id": "fb4b3c4c-baf7-426b-8160-f67732129f4e",
   "metadata": {},
   "outputs": [],
   "source": [
    "class EarlyStopping:\n",
    "    def __init__(self, patience=10):\n",
    "        self.patience = patience\n",
    "        self.counter = 0\n",
    "        self.best_loss = float('inf')\n",
    "        self.early_stop = False\n",
    "\n",
    "    def __call__(self, val_loss):\n",
    "        if val_loss < self.best_loss:\n",
    "            self.best_loss = val_loss\n",
    "            self.counter = 0\n",
    "        else:\n",
    "            self.counter += 1\n",
    "            if self.counter >= self.patience:\n",
    "                self.early_stop = True"
   ]
  },
  {
   "cell_type": "markdown",
   "id": "fab905e7-9920-4fd6-bfa1-a560de056bca",
   "metadata": {},
   "source": [
    "### Questions – Étape 4 :\n",
    "\n",
    "**Pourquoi surveiller la perte sur validation ?**  \n",
    "Elle reflète la capacité du modèle à généraliser sur des données non vues.\n",
    "\n",
    "**Que se passe-t-il si on continue à entraîner après overfitting ?**  \n",
    "Le modèle mémorise le bruit des données d’entraînement et perd en performance sur les données réelles.\n",
    "\n",
    "**Dans quels cas early stopping est-il crucial ?**  \n",
    "Quand le dataset est petit, ou quand le surapprentissage apparaît rapidement.\n"
   ]
  },
  {
   "cell_type": "markdown",
   "id": "37b2c5a2-6747-4d64-9250-47c48fbe24f2",
   "metadata": {},
   "source": [
    "## Étape 5 : Entraînement avec sauvegarde du meilleur modèle"
   ]
  },
  {
   "cell_type": "markdown",
   "id": "d0e4ad35-0805-4d77-a096-6401bf39a539",
   "metadata": {},
   "source": [
    "#### entraînement avec EarlyStopping et ModelCheckpoint"
   ]
  },
  {
   "cell_type": "code",
   "execution_count": 94,
   "id": "444ff55a-bba4-45f9-a029-3ee1d71708d0",
   "metadata": {},
   "outputs": [
    {
     "name": "stdout",
     "output_type": "stream",
     "text": [
      "Epoch 1: Train Loss = 0.6439, Val Loss = 0.5841\n",
      ">> Meilleur modèle sauvegardé.\n",
      "Epoch 2: Train Loss = 0.5622, Val Loss = 0.4749\n",
      ">> Meilleur modèle sauvegardé.\n",
      "Epoch 3: Train Loss = 0.4537, Val Loss = 0.3461\n",
      ">> Meilleur modèle sauvegardé.\n",
      "Epoch 4: Train Loss = 0.3464, Val Loss = 0.2347\n",
      ">> Meilleur modèle sauvegardé.\n",
      "Epoch 5: Train Loss = 0.2605, Val Loss = 0.1614\n",
      ">> Meilleur modèle sauvegardé.\n",
      "Epoch 6: Train Loss = 0.1976, Val Loss = 0.1162\n",
      ">> Meilleur modèle sauvegardé.\n",
      "Epoch 7: Train Loss = 0.1583, Val Loss = 0.0874\n",
      ">> Meilleur modèle sauvegardé.\n",
      "Epoch 8: Train Loss = 0.1298, Val Loss = 0.0694\n",
      ">> Meilleur modèle sauvegardé.\n",
      "Epoch 9: Train Loss = 0.0973, Val Loss = 0.0590\n",
      ">> Meilleur modèle sauvegardé.\n",
      "Epoch 10: Train Loss = 0.0967, Val Loss = 0.0532\n",
      ">> Meilleur modèle sauvegardé.\n",
      "Epoch 11: Train Loss = 0.0928, Val Loss = 0.0492\n",
      ">> Meilleur modèle sauvegardé.\n",
      "Epoch 12: Train Loss = 0.0876, Val Loss = 0.0460\n",
      ">> Meilleur modèle sauvegardé.\n",
      "Epoch 13: Train Loss = 0.0815, Val Loss = 0.0445\n",
      ">> Meilleur modèle sauvegardé.\n",
      "Epoch 14: Train Loss = 0.0701, Val Loss = 0.0434\n",
      ">> Meilleur modèle sauvegardé.\n",
      "Epoch 15: Train Loss = 0.0694, Val Loss = 0.0421\n",
      ">> Meilleur modèle sauvegardé.\n",
      "Epoch 16: Train Loss = 0.0611, Val Loss = 0.0401\n",
      ">> Meilleur modèle sauvegardé.\n",
      "Epoch 17: Train Loss = 0.0661, Val Loss = 0.0412\n",
      "Epoch 18: Train Loss = 0.0588, Val Loss = 0.0401\n",
      ">> Meilleur modèle sauvegardé.\n",
      "Epoch 19: Train Loss = 0.0501, Val Loss = 0.0398\n",
      ">> Meilleur modèle sauvegardé.\n",
      "Epoch 20: Train Loss = 0.0527, Val Loss = 0.0400\n",
      "Epoch 21: Train Loss = 0.0589, Val Loss = 0.0397\n",
      ">> Meilleur modèle sauvegardé.\n",
      "Epoch 22: Train Loss = 0.0452, Val Loss = 0.0386\n",
      ">> Meilleur modèle sauvegardé.\n",
      "Epoch 23: Train Loss = 0.0544, Val Loss = 0.0408\n",
      "Epoch 24: Train Loss = 0.0476, Val Loss = 0.0411\n",
      "Epoch 25: Train Loss = 0.0419, Val Loss = 0.0402\n",
      "Epoch 26: Train Loss = 0.0388, Val Loss = 0.0377\n",
      ">> Meilleur modèle sauvegardé.\n",
      "Epoch 27: Train Loss = 0.0408, Val Loss = 0.0386\n",
      "Epoch 28: Train Loss = 0.0406, Val Loss = 0.0360\n",
      ">> Meilleur modèle sauvegardé.\n",
      "Epoch 29: Train Loss = 0.0370, Val Loss = 0.0355\n",
      ">> Meilleur modèle sauvegardé.\n",
      "Epoch 30: Train Loss = 0.0341, Val Loss = 0.0369\n",
      "Epoch 31: Train Loss = 0.0324, Val Loss = 0.0380\n",
      "Epoch 32: Train Loss = 0.0394, Val Loss = 0.0347\n",
      ">> Meilleur modèle sauvegardé.\n",
      "Epoch 33: Train Loss = 0.0346, Val Loss = 0.0353\n",
      "Epoch 34: Train Loss = 0.0385, Val Loss = 0.0374\n",
      "Epoch 35: Train Loss = 0.0325, Val Loss = 0.0389\n",
      "Epoch 36: Train Loss = 0.0325, Val Loss = 0.0388\n",
      "Epoch 37: Train Loss = 0.0296, Val Loss = 0.0392\n",
      "Epoch 38: Train Loss = 0.0253, Val Loss = 0.0405\n",
      "Epoch 39: Train Loss = 0.0291, Val Loss = 0.0406\n",
      "Epoch 40: Train Loss = 0.0250, Val Loss = 0.0386\n",
      "Epoch 41: Train Loss = 0.0324, Val Loss = 0.0425\n",
      "Epoch 42: Train Loss = 0.0226, Val Loss = 0.0407\n",
      ">> Arrêt anticipé: aucune amélioration depuis 10 epochs.\n"
     ]
    }
   ],
   "source": [
    "import os\n",
    "from tqdm import tqdm\n",
    "import matplotlib.pyplot as plt\n",
    "\n",
    "# Créer dossier de sauvegarde si non existant\n",
    "os.makedirs(\"models\", exist_ok=True)\n",
    "\n",
    "# Initialiser early stopping\n",
    "early_stopping = EarlyStopping(patience=10)\n",
    "best_val_loss = float('inf')\n",
    "\n",
    "train_losses = []\n",
    "val_losses = []\n",
    "\n",
    "n_epochs = 100\n",
    "for epoch in range(n_epochs):\n",
    "    model.train()\n",
    "    train_loss = 0\n",
    "    for X_batch, y_batch in train_loader:\n",
    "        optimizer.zero_grad()\n",
    "        output = model(X_batch)\n",
    "        loss = criterion(output, y_batch)\n",
    "        loss.backward()\n",
    "        optimizer.step()\n",
    "        train_loss += loss.item()\n",
    "    \n",
    "    # Validation\n",
    "    model.eval()\n",
    "    val_loss = 0\n",
    "    with torch.no_grad():\n",
    "        for X_val_batch, y_val_batch in val_loader:\n",
    "            val_output = model(X_val_batch)\n",
    "            val_loss += criterion(val_output, y_val_batch).item()\n",
    "\n",
    "    avg_train_loss = train_loss / len(train_loader)\n",
    "    avg_val_loss = val_loss / len(val_loader)\n",
    "\n",
    "    # Enregistrer les pertes\n",
    "    train_losses.append(avg_train_loss)\n",
    "    val_losses.append(avg_val_loss)\n",
    "\n",
    "    print(f\"Epoch {epoch+1}: Train Loss = {avg_train_loss:.4f}, Val Loss = {avg_val_loss:.4f}\")\n",
    "\n",
    "    # Sauvegarde du meilleur modèle\n",
    "    if avg_val_loss < best_val_loss:\n",
    "        best_val_loss = avg_val_loss\n",
    "        torch.save(model.state_dict(), \"models/best_model.pt\")\n",
    "        print(\">> Meilleur modèle sauvegardé.\")\n",
    "    \n",
    "    # Vérification early stopping\n",
    "    early_stopping(avg_val_loss)\n",
    "    if early_stopping.early_stop:\n",
    "        print(\">> Arrêt anticipé: aucune amélioration depuis 10 epochs.\")\n",
    "        break\n"
   ]
  },
  {
   "cell_type": "code",
   "execution_count": 96,
   "id": "8f986194-4fdd-45de-bbb6-0720df532625",
   "metadata": {},
   "outputs": [
    {
     "data": {
      "image/png": "[encoded data removed]",
      "text/plain": [
       "<Figure size 800x500 with 1 Axes>"
      ]
     },
     "metadata": {},
     "output_type": "display_data"
    }
   ],
   "source": [
    "plt.figure(figsize=(8,5))\n",
    "plt.plot(train_losses, label=\"Train Loss\")\n",
    "plt.plot(val_losses, label=\"Validation Loss\")\n",
    "plt.xlabel(\"Epochs\")\n",
    "plt.ylabel(\"Loss\")\n",
    "plt.title(\"Courbe de Perte (Loss Curve)\")\n",
    "plt.legend()\n",
    "plt.grid(True)\n",
    "plt.show()\n"
   ]
  },
  {
   "cell_type": "markdown",
   "id": "026ab517-8410-4f3b-a931-c58c25a24a4f",
   "metadata": {},
   "source": [
    "### Questions – Étape 5 :\n",
    "\n",
    "**Pourquoi sauvegarder les meilleurs poids et non les derniers ?**  \n",
    "Les meilleurs poids correspondent au meilleur score de validation. Les derniers peuvent être surentraînés.\n",
    "\n",
    "**Quelle est l’alternative à ModelCheckpoint dans un contexte non PyTorch ?**  \n",
    "On peut utiliser `joblib` ou `pickle` en scikit-learn pour sauvegarder les modèles.\n"
   ]
  },
  {
   "cell_type": "markdown",
   "id": "f9a94788-84c6-4990-bc5a-811627a9afa6",
   "metadata": {},
   "source": [
    "## Étape 6 : Évaluation du modèle"
   ]
  },
  {
   "cell_type": "code",
   "execution_count": 100,
   "id": "1715d6f8-106b-4f07-801a-d4202240689b",
   "metadata": {},
   "outputs": [
    {
     "name": "stdout",
     "output_type": "stream",
     "text": [
      "Accuracy  : 0.9825\n",
      "F1-score  : 0.9756\n",
      "Recall    : 0.9524\n",
      "Precision : 1.0000\n"
     ]
    }
   ],
   "source": [
    "from sklearn.metrics import accuracy_score, f1_score, recall_score, precision_score\n",
    "\n",
    "# Charger le meilleur modèle sauvegardé\n",
    "model.load_state_dict(torch.load(\"models/best_model.pt\"))\n",
    "model.eval()\n",
    "\n",
    "# Prédictions sur les données de test\n",
    "y_pred = []\n",
    "y_true = []\n",
    "\n",
    "with torch.no_grad():\n",
    "    for X_batch, y_batch in test_loader:\n",
    "        outputs = model(X_batch)\n",
    "        predictions = (outputs >= 0.5).float()  # seuil de 0.5\n",
    "        y_pred.extend(predictions.numpy())\n",
    "        y_true.extend(y_batch.numpy())\n",
    "\n",
    "# Calcul des métriques\n",
    "acc = accuracy_score(y_true, y_pred)\n",
    "f1 = f1_score(y_true, y_pred)\n",
    "recall = recall_score(y_true, y_pred)\n",
    "precision = precision_score(y_true, y_pred)\n",
    "\n",
    "print(f\"Accuracy  : {acc:.4f}\")\n",
    "print(f\"F1-score  : {f1:.4f}\")\n",
    "print(f\"Recall    : {recall:.4f}\")\n",
    "print(f\"Precision : {precision:.4f}\")"
   ]
  },
  {
   "cell_type": "code",
   "execution_count": 102,
   "id": "4bfd4b78-102f-4b2e-8c00-ae5be7b2f404",
   "metadata": {},
   "outputs": [
    {
     "data": {
      "image/png": "[encoded data removed]",
      "text/plain": [
       "<Figure size 640x480 with 2 Axes>"
      ]
     },
     "metadata": {},
     "output_type": "display_data"
    }
   ],
   "source": [
    "from sklearn.metrics import confusion_matrix, ConfusionMatrixDisplay\n",
    "\n",
    "# Générer la matrice de confusion\n",
    "cm = confusion_matrix(y_true, y_pred)\n",
    "\n",
    "# Affichage graphique\n",
    "disp = ConfusionMatrixDisplay(confusion_matrix=cm)\n",
    "disp.plot(cmap=\"Blues\")\n",
    "plt.title(\"Matrice de Confusion\")\n",
    "plt.grid(False)\n",
    "plt.show()\n"
   ]
  },
  {
   "cell_type": "markdown",
   "id": "160dc544-edf2-4090-b58a-aa6ac28f4a60",
   "metadata": {},
   "source": [
    "#### Courbe ROC et AUC"
   ]
  },
  {
   "cell_type": "code",
   "execution_count": 105,
   "id": "4690c9c6-8e08-49f4-8fe6-532a662f0de8",
   "metadata": {},
   "outputs": [
    {
     "data": {
      "image/png": "[encoded data removed]",
      "text/plain": [
       "<Figure size 640x480 with 1 Axes>"
      ]
     },
     "metadata": {},
     "output_type": "display_data"
    }
   ],
   "source": [
    "from sklearn.metrics import roc_curve, auc\n",
    "\n",
    "# Probabilités de prédiction\n",
    "y_proba = []\n",
    "\n",
    "with torch.no_grad():\n",
    "    for X_batch, _ in test_loader:\n",
    "        outputs = model(X_batch)\n",
    "        y_proba.extend(outputs.numpy())\n",
    "\n",
    "# Calcul ROC\n",
    "fpr, tpr, _ = roc_curve(y_true, y_proba)\n",
    "roc_auc = auc(fpr, tpr)\n",
    "\n",
    "# Affichage\n",
    "plt.figure()\n",
    "plt.plot(fpr, tpr, label=f\"AUC = {roc_auc:.2f}\")\n",
    "plt.plot([0, 1], [0, 1], 'k--')\n",
    "plt.xlabel(\"Taux de Faux Positifs (FPR)\")\n",
    "plt.ylabel(\"Taux de Vrais Positifs (TPR)\")\n",
    "plt.title(\"Courbe ROC\")\n",
    "plt.legend()\n",
    "plt.grid(True)\n",
    "plt.show()\n"
   ]
  },
  {
   "cell_type": "markdown",
   "id": "7b6c7bae-f700-40b6-8c41-8fb26e14ee3c",
   "metadata": {},
   "source": [
    "### Questions – Étape 6 :\n",
    "\n",
    "**Quelle est la différence entre accuracy et F1 ?**  \n",
    "L'accuracy mesure le taux global de bonnes réponses. Le F1-score équilibre la précision et le rappel, utile si les classes sont déséquilibrées.\n",
    "\n",
    "**Dans quels cas le recall est-il prioritaire ?**  \n",
    "Quand il est plus grave de rater une vraie alerte que d’en avoir une fausse. Exemple : diagnostic médical.\n",
    "\n",
    "**Quel score serait le plus critique dans un contexte médical ?**  \n",
    "Le recall. Il permet de détecter tous les cas positifs même au prix de quelques fausses alertes.\n"
   ]
  },
  {
   "cell_type": "markdown",
   "id": "1bd5afe4-f446-4867-8c19-d6c827ab4df5",
   "metadata": {},
   "source": [
    "## Quel score serait le plus critique dans un contexte médical ? Justifiez."
   ]
  },
  {
   "cell_type": "markdown",
   "id": "44890b08-cfa7-4123-8ad1-2d258d2663f5",
   "metadata": {},
   "source": [
    "Dans un contexte médical, le score le plus critique est le Recall.\n",
    "En effet, le Recall (ou sensibilité) mesure la capacité du modèle à détecter correctement les cas positifs, c’est-à-dire les patients réellement malades.\n",
    "\n",
    "Dans le domaine de la santé, ne pas détecter une maladie grave chez un patient (faux négatif) peut avoir des conséquences dramatiques. Il est donc préférable d'avoir un modèle qui identifie tous les cas à risque, même au prix de quelques fausses alertes (faux positifs), car celles-ci peuvent être corrigées par des examens complémentaires.\n",
    "\n",
    "Ainsi, le Recall est prioritaire pour éviter de \"laisser passer\" des patients malades sans diagnostic."
   ]
  },
  {
   "cell_type": "markdown",
   "id": "f2d0801a-fd7e-4c7c-9a8f-0df0c0bf492a",
   "metadata": {},
   "source": [
    "## Quelle est la différence entre Accuracy et F1-score ?"
   ]
  },
  {
   "cell_type": "markdown",
   "id": "e2554aad-c520-4b4e-a5ad-d9f87fcaf0eb",
   "metadata": {},
   "source": [
    "L’Accuracy (ou exactitude) mesure la proportion des prédictions correctes parmi l’ensemble des échantillons. Elle donne une vue globale de la performance du modèle.\n",
    "\n",
    "Cependant, dans un jeu de données déséquilibré — où une classe est beaucoup plus représentée que l’autre — l’Accuracy peut être trompeuse. Un modèle peut obtenir une très bonne Accuracy simplement en prédisant toujours la classe majoritaire, même s’il échoue complètement à détecter la classe minoritaire.\n",
    "\n",
    "Le F1-score, quant à lui, est la moyenne harmonique entre la précision (Precision) et le rappel (Recall). Il tient compte à la fois des faux positifs et des faux négatifs, ce qui en fait un indicateur plus fiable dans les contextes déséquilibrés.\n",
    "\n",
    "Ainsi, le F1-score est préférable à l’Accuracy lorsque les classes sont déséquilibrées ou que les erreurs ont des conséquences différentes selon le type (faux positifs vs faux négatifs)."
   ]
  },
  {
   "cell_type": "code",
   "execution_count": null,
   "id": "0bb4d1a0-a6fe-4e89-b747-3291c4301fee",
   "metadata": {},
   "outputs": [],
   "source": []
  },
  {
   "cell_type": "code",
   "execution_count": null,
   "id": "b31aa1e0-2a13-4fb0-a29d-3b5f1977e98a",
   "metadata": {},
   "outputs": [],
   "source": []
  },
  {
   "cell_type": "code",
   "execution_count": null,
   "id": "54d02136-d2c2-48af-a231-39b5f38cd08e",
   "metadata": {},
   "outputs": [],
   "source": []
  },
  {
   "cell_type": "markdown",
   "id": "39827644",
   "metadata": {},
   "source": [
    "# --- Fin de TP2 / Début TP3 ---"
   ]
  },
  {
   "cell_type": "markdown",
   "id": "a434450b-caa6-4c18-b068-377af1798c59",
   "metadata": {},
   "source": [
    "# TP3: Régression avec Réseaux de Neurones (PyTorch)"
   ]
  },
  {
   "cell_type": "markdown",
   "id": "24b0fe08-a0e9-40e5-8dd1-b639a0e524e4",
   "metadata": {},
   "source": [
    "## Étape 1 – Chargement et exploration du jeu de données"
   ]
  },
  {
   "cell_type": "code",
   "execution_count": 6,
   "id": "3b9fb9f6-c3c2-4443-aa17-bfa8edc3e03a",
   "metadata": {},
   "outputs": [
    {
     "name": "stdout",
     "output_type": "stream",
     "text": [
      "   longitude  latitude  housing_median_age  total_rooms  total_bedrooms  \\\n",
      "0    -122.23     37.88                41.0        880.0           129.0   \n",
      "1    -122.22     37.86                21.0       7099.0          1106.0   \n",
      "2    -122.24     37.85                52.0       1467.0           190.0   \n",
      "3    -122.25     37.85                52.0       1274.0           235.0   \n",
      "4    -122.25     37.85                52.0       1627.0           280.0   \n",
      "\n",
      "   population  households  median_income  median_house_value ocean_proximity  \n",
      "0       322.0       126.0         8.3252            452600.0        NEAR BAY  \n",
      "1      2401.0      1138.0         8.3014            358500.0        NEAR BAY  \n",
      "2       496.0       177.0         7.2574            352100.0        NEAR BAY  \n",
      "3       558.0       219.0         5.6431            341300.0        NEAR BAY  \n",
      "4       565.0       259.0         3.8462            342200.0        NEAR BAY  \n",
      "Nombre de lignes: 20640, Nombre de colonnes: 10\n",
      "longitude               0\n",
      "latitude                0\n",
      "housing_median_age      0\n",
      "total_rooms             0\n",
      "total_bedrooms        207\n",
      "population              0\n",
      "households              0\n",
      "median_income           0\n",
      "median_house_value      0\n",
      "ocean_proximity         0\n",
      "dtype: int64\n"
     ]
    }
   ],
   "source": [
    "import pandas as pd\n",
    "\n",
    "# Charger le fichier housing.csv\n",
    "df = pd.read_csv(\"../data/raw/housing.csv\")\n",
    "\n",
    "# Afficher les 5 premières lignes\n",
    "print(df.head())\n",
    "\n",
    "# Dimensions du dataset\n",
    "print(f\"Nombre de lignes: {df.shape[0]}, Nombre de colonnes: {df.shape[1]}\")\n",
    "\n",
    "# Vérifier les valeurs manquantes\n",
    "print(df.isnull().sum())\n"
   ]
  },
  {
   "cell_type": "markdown",
   "id": "0f89c0c2-1de2-4f16-837b-ae9b5a48a9ee",
   "metadata": {},
   "source": [
    "### Questions – Étape 1\n",
    "\n",
    "**Combien de lignes et de colonnes contient le dataset ?**  \n",
    "Le dataset contient généralement environ 20 000 lignes et 10 colonnes (cela peut varier légèrement selon la version du fichier).\n",
    "\n",
    "**Quelles sont les variables d’entrée ?**  \n",
    "Toutes les colonnes sauf `median_house_value` (qui est la cible), par exemple :  \n",
    "`longitude, latitude, housing_median_age, total_rooms, total_bedrooms, population, households, median_income`.\n",
    "\n",
    "**Quelle est la variable cible ?**  \n",
    "`median_house_value` – c’est le prix médian des maisons.\n",
    "\n",
    "**Y a-t-il des valeurs manquantes ? Si oui, comment les gérer ?**  \n",
    "Oui, généralement dans la colonne `total_bedrooms`. On peut soit :\n",
    "- Imputer avec la moyenne ou médiane\n",
    "- Supprimer les lignes contenant des valeurs manquantes\n",
    "\n",
    "**Quelles sont les unités des variables ? Pourquoi cela peut-il impacter l’apprentissage ?**  \n",
    "Les variables sont dans des unités différentes : certaines sont des nombres absolus (population), d’autres des ratios (income).  \n",
    "-> Cela peut impacter l’apprentissage car les réseaux de neurones sont sensibles aux échelles.  \n",
    "D’où la nécessité de **standardiser** les données.\n"
   ]
  },
  {
   "cell_type": "markdown",
   "id": "400e93d3-863e-437f-86e3-7f59ba6c2c2d",
   "metadata": {},
   "source": [
    "## Étape 2 – Prétraitement des données"
   ]
  },
  {
   "cell_type": "code",
   "execution_count": 20,
   "id": "2262d7b2-d5a1-4cb2-9513-a7eabf26489b",
   "metadata": {},
   "outputs": [],
   "source": [
    "from sklearn.model_selection import train_test_split\n",
    "from sklearn.preprocessing import StandardScaler\n",
    "import torch\n",
    "from torch.utils.data import DataLoader, TensorDataset\n",
    "\n",
    "# Traitement des valeurs manquantes\n",
    "df[\"total_bedrooms\"] = df[\"total_bedrooms\"].fillna(df[\"total_bedrooms\"].median())\n",
    "\n",
    "# Séparation des features et de la cible\n",
    "X = df.drop(\"median_house_value\", axis=1)\n",
    "y = df[\"median_house_value\"]\n",
    "\n",
    "# Encodage de la variable catégorielle\n",
    "if \"ocean_proximity\" in X.columns:\n",
    "    X = pd.get_dummies(X, columns=[\"ocean_proximity\"])\n",
    "\n",
    "# Standardisation des données\n",
    "scaler = StandardScaler()\n",
    "X_scaled = scaler.fit_transform(X)\n",
    "\n",
    "# Séparation en train, validation et test\n",
    "X_train, X_temp, y_train, y_temp = train_test_split(X_scaled, y, test_size=0.4, random_state=42)\n",
    "X_val, X_test, y_val, y_test = train_test_split(X_temp, y_temp, test_size=0.5, random_state=42)\n",
    "\n",
    "# Conversion en tenseurs PyTorch\n",
    "X_train_tensor = torch.tensor(X_train, dtype=torch.float32)\n",
    "y_train_tensor = torch.tensor(y_train.values, dtype=torch.float32).unsqueeze(1)\n",
    "X_val_tensor = torch.tensor(X_val, dtype=torch.float32)\n",
    "y_val_tensor = torch.tensor(y_val.values, dtype=torch.float32).unsqueeze(1)\n",
    "X_test_tensor = torch.tensor(X_test, dtype=torch.float32)\n",
    "y_test_tensor = torch.tensor(y_test.values, dtype=torch.float32).unsqueeze(1)\n",
    "\n",
    "# Création des DataLoaders\n",
    "train_loader = DataLoader(TensorDataset(X_train_tensor, y_train_tensor), batch_size=64, shuffle=True)\n",
    "val_loader = DataLoader(TensorDataset(X_val_tensor, y_val_tensor), batch_size=64)\n",
    "test_loader = DataLoader(TensorDataset(X_test_tensor, y_test_tensor), batch_size=64)\n"
   ]
  },
  {
   "cell_type": "markdown",
   "id": "72c2043e-585b-4452-9f4a-ee127e966567",
   "metadata": {},
   "source": [
    "### Questions – Étape 2\n",
    "\n",
    "**Comment avez-vous géré les valeurs manquantes ?**  \n",
    "Nous avons remplacé les valeurs manquantes dans la colonne `total_bedrooms` par la médiane de la colonne.\n",
    "\n",
    "**Pourquoi faut-il standardiser les données ?**  \n",
    "Les réseaux de neurones sont sensibles aux différentes échelles des variables.  \n",
    "La standardisation permet d’assurer une convergence plus rapide et plus stable de l’apprentissage.\n",
    "\n",
    "**Pourquoi séparer en validation et test ?**  \n",
    "- Le jeu de validation est utilisé pour surveiller la performance pendant l’entraînement (par exemple, pour le early stopping).\n",
    "- Le jeu de test reste complètement inconnu jusqu’à l’évaluation finale.\n",
    "\n",
    "**Faut-il stratifier les données dans un problème de régression ?**  \n",
    "Non, la stratification est surtout utile pour la classification.  \n",
    "Dans la régression, ce n’est pas essentiel mais on peut s’assurer d’un échantillonnage aléatoire bien réparti.\n"
   ]
  },
  {
   "cell_type": "markdown",
   "id": "578debbf-953c-489f-99a3-9292761a8e67",
   "metadata": {},
   "source": [
    "## Étape 3 – Construction du réseau de neurones"
   ]
  },
  {
   "cell_type": "code",
   "execution_count": 24,
   "id": "61dff4a2-8e2b-473a-a840-b1d305de54e1",
   "metadata": {},
   "outputs": [],
   "source": [
    "import torch.nn as nn\n",
    "\n",
    "# Architecture du réseau\n",
    "model = nn.Sequential(\n",
    "    nn.Linear(X_train.shape[1], 128),\n",
    "    nn.ReLU(),\n",
    "    nn.Dropout(0.3),\n",
    "    nn.Linear(128, 64),\n",
    "    nn.ReLU(),\n",
    "    nn.Dropout(0.3),\n",
    "    nn.Linear(64, 1)  # Pas d'activation finale : régression\n",
    ")"
   ]
  },
  {
   "cell_type": "markdown",
   "id": "f924637a-a6ea-425c-b1c6-b05515821e1a",
   "metadata": {},
   "source": [
    "### Questions – Étape 3\n",
    "\n",
    "**Quelle est la forme de la couche d’entrée ?**  \n",
    "Elle a autant de neurones que de variables explicatives, soit `X_train.shape[1]`.\n",
    "\n",
    "**Pourquoi utilise-t-on ReLU comme activation ?**  \n",
    "La fonction `ReLU` est simple, rapide et évite les problèmes de vanishing gradients.  \n",
    "Elle favorise une convergence plus stable lors de l’entraînement.\n",
    "\n",
    "**Pourquoi n'y a-t-il pas de fonction d'activation dans la couche de sortie ?**  \n",
    "Parce que nous sommes dans un problème de régression.  \n",
    "La sortie est une **valeur réelle continue**, donc aucune activation n’est nécessaire pour la dernière couche.\n"
   ]
  },
  {
   "cell_type": "markdown",
   "id": "c8e57091-1f15-4545-9bef-4d8ded557733",
   "metadata": {},
   "source": [
    "## Étape 4 – Fonction de perte, optimiseur et entraînement avec validation"
   ]
  },
  {
   "cell_type": "code",
   "execution_count": 28,
   "id": "3e572e23-165f-492e-851e-5186edf8967f",
   "metadata": {},
   "outputs": [
    {
     "name": "stdout",
     "output_type": "stream",
     "text": [
      "Epoch 1: Train Loss = 55757766149.28, Val Loss = 55048607271.38\n",
      "Epoch 2: Train Loss = 54970454543.84, Val Loss = 53236940232.86\n",
      "Epoch 3: Train Loss = 51685113444.29, Val Loss = 48297600866.46\n",
      "Epoch 4: Train Loss = 44915317411.63, Val Loss = 40086385742.77\n",
      "Epoch 5: Train Loss = 35684957110.10, Val Loss = 30262881894.40\n",
      "Epoch 6: Train Loss = 26032649353.24, Val Loss = 21315883244.31\n",
      "Epoch 7: Train Loss = 18408173013.77, Val Loss = 15022676141.29\n",
      "Epoch 8: Train Loss = 13624575546.06, Val Loss = 11615100108.80\n",
      "Epoch 9: Train Loss = 11292067396.62, Val Loss = 10082497709.29\n",
      "Epoch 10: Train Loss = 10211849065.57, Val Loss = 9327565619.20\n",
      "Epoch 11: Train Loss = 9710741775.84, Val Loss = 8812915617.48\n",
      "Epoch 12: Train Loss = 9399586306.64, Val Loss = 8420247882.83\n",
      "Epoch 13: Train Loss = 8761151411.46, Val Loss = 8081990140.06\n",
      "Epoch 14: Train Loss = 8692741959.26, Val Loss = 7788185214.03\n",
      "Epoch 15: Train Loss = 8300410703.18, Val Loss = 7531296972.80\n",
      "Epoch 16: Train Loss = 8059628897.65, Val Loss = 7297712738.46\n",
      "Epoch 17: Train Loss = 7853038586.72, Val Loss = 7078122562.95\n",
      "Epoch 18: Train Loss = 7575044435.13, Val Loss = 6876472946.22\n",
      "Epoch 19: Train Loss = 7452499474.47, Val Loss = 6690698606.28\n",
      "Epoch 20: Train Loss = 7291620084.12, Val Loss = 6511909029.42\n",
      "Epoch 21: Train Loss = 7179956900.95, Val Loss = 6346178414.28\n",
      "Epoch 22: Train Loss = 7048831860.12, Val Loss = 6199400030.52\n",
      "Epoch 23: Train Loss = 6861257987.96, Val Loss = 6061614714.09\n",
      "Epoch 24: Train Loss = 6570597335.09, Val Loss = 5923901369.11\n",
      "Epoch 25: Train Loss = 6493487520.99, Val Loss = 5811825148.06\n",
      "Epoch 26: Train Loss = 6393016415.01, Val Loss = 5706438183.38\n",
      "Epoch 27: Train Loss = 6313625099.88, Val Loss = 5607765956.92\n",
      "Epoch 28: Train Loss = 6281469160.25, Val Loss = 5522940463.26\n",
      "Epoch 29: Train Loss = 6171678390.10, Val Loss = 5440172402.22\n",
      "Epoch 30: Train Loss = 6035285661.03, Val Loss = 5367864512.98\n",
      "Epoch 31: Train Loss = 6010254000.82, Val Loss = 5302860288.00\n",
      "Epoch 32: Train Loss = 5973868464.82, Val Loss = 5251242921.35\n",
      "Epoch 33: Train Loss = 5948680965.28, Val Loss = 5203881385.35\n",
      "Epoch 34: Train Loss = 5764605916.37, Val Loss = 5153340132.43\n",
      "Epoch 35: Train Loss = 5729910012.04, Val Loss = 5122000864.49\n",
      "Epoch 36: Train Loss = 5732723033.73, Val Loss = 5080958538.83\n",
      "Epoch 37: Train Loss = 5763865307.05, Val Loss = 5056295258.58\n",
      "Epoch 38: Train Loss = 5745996307.79, Val Loss = 5029922953.85\n",
      "Epoch 39: Train Loss = 5625115109.61, Val Loss = 4995805384.86\n",
      "Epoch 40: Train Loss = 5691120010.56, Val Loss = 4985635328.00\n",
      "Epoch 41: Train Loss = 5690323061.44, Val Loss = 4956157928.37\n",
      "Epoch 42: Train Loss = 5564920780.54, Val Loss = 4935221145.60\n",
      "Epoch 43: Train Loss = 5492101077.77, Val Loss = 4915779942.40\n",
      "Epoch 44: Train Loss = 5531784434.80, Val Loss = 4892986119.88\n",
      "Epoch 45: Train Loss = 5508506666.23, Val Loss = 4885942496.49\n",
      "Epoch 46: Train Loss = 5469215439.18, Val Loss = 4869057055.51\n",
      "Epoch 47: Train Loss = 5479671489.98, Val Loss = 4862710256.25\n",
      "Epoch 48: Train Loss = 5467131128.08, Val Loss = 4843635172.43\n",
      "Epoch 49: Train Loss = 5375540275.46, Val Loss = 4833485390.77\n",
      "Epoch 50: Train Loss = 5403694644.78, Val Loss = 4825677831.88\n",
      "Epoch 51: Train Loss = 5403167832.41, Val Loss = 4814612629.66\n",
      "Epoch 52: Train Loss = 5423515743.01, Val Loss = 4798763492.43\n",
      "Epoch 53: Train Loss = 5308080113.48, Val Loss = 4787995970.95\n",
      "Epoch 54: Train Loss = 5318354195.79, Val Loss = 4776709293.29\n",
      "Epoch 55: Train Loss = 5352273765.61, Val Loss = 4782996476.06\n",
      "Epoch 56: Train Loss = 5333645433.40, Val Loss = 4766360965.91\n",
      "Epoch 57: Train Loss = 5355161718.76, Val Loss = 4757885239.14\n",
      "Epoch 58: Train Loss = 5330935689.24, Val Loss = 4749307825.23\n",
      "Epoch 59: Train Loss = 5255902237.69, Val Loss = 4744797861.42\n",
      "Epoch 60: Train Loss = 5396392880.82, Val Loss = 4751870586.09\n",
      "Epoch 61: Train Loss = 5312637888.66, Val Loss = 4731661245.05\n",
      "Epoch 62: Train Loss = 5303291630.85, Val Loss = 4724350412.80\n",
      "Epoch 63: Train Loss = 5355274967.09, Val Loss = 4713129542.89\n",
      "Epoch 64: Train Loss = 5268905010.14, Val Loss = 4708103014.40\n",
      "Epoch 65: Train Loss = 5269766316.87, Val Loss = 4712082561.97\n",
      "Epoch 66: Train Loss = 5244270231.75, Val Loss = 4709725908.68\n",
      "Epoch 67: Train Loss = 5190292928.00, Val Loss = 4704267287.63\n",
      "Epoch 68: Train Loss = 5256224534.43, Val Loss = 4703665888.49\n",
      "Epoch 69: Train Loss = 5260854877.69, Val Loss = 4688195753.35\n",
      "Epoch 70: Train Loss = 5222631900.37, Val Loss = 4688808617.35\n",
      "Epoch 71: Train Loss = 5227932745.90, Val Loss = 4680493623.14\n",
      "Epoch 72: Train Loss = 5296627518.02, Val Loss = 4670782274.95\n",
      "Epoch 73: Train Loss = 5140111379.79, Val Loss = 4677534511.26\n",
      "Epoch 74: Train Loss = 5257593445.61, Val Loss = 4665704475.57\n",
      "Epoch 75: Train Loss = 5196199065.73, Val Loss = 4660675682.46\n",
      "Epoch 76: Train Loss = 5209166700.87, Val Loss = 4658899026.71\n",
      "Epoch 77: Train Loss = 5302789448.58, Val Loss = 4662410980.43\n",
      "Epoch 78: Train Loss = 5233341666.97, Val Loss = 4657436116.68\n",
      "Epoch 79: Train Loss = 5172831323.71, Val Loss = 4653391391.51\n",
      "Epoch 80: Train Loss = 5166102818.97, Val Loss = 4640313982.03\n",
      "Epoch 81: Train Loss = 5186291593.24, Val Loss = 4642260239.75\n",
      "Epoch 82: Train Loss = 5141939709.36, Val Loss = 4638544545.48\n",
      "Epoch 83: Train Loss = 5156954126.52, Val Loss = 4639717474.46\n",
      "Epoch 84: Train Loss = 5163636665.40, Val Loss = 4634212470.15\n",
      "Epoch 85: Train Loss = 5192603460.62, Val Loss = 4628120091.57\n",
      "Epoch 86: Train Loss = 5100822650.72, Val Loss = 4626176957.05\n",
      "Epoch 87: Train Loss = 5241729274.72, Val Loss = 4624005880.12\n",
      "Epoch 88: Train Loss = 5139086764.87, Val Loss = 4622194361.11\n",
      "Epoch 89: Train Loss = 5152238815.01, Val Loss = 4615961422.77\n",
      "Epoch 90: Train Loss = 5171951202.97, Val Loss = 4627693859.45\n",
      "Epoch 91: Train Loss = 5186129994.56, Val Loss = 4614226916.43\n",
      "Epoch 92: Train Loss = 5071778905.73, Val Loss = 4611343675.08\n",
      "Epoch 93: Train Loss = 5140710659.96, Val Loss = 4602777084.06\n",
      "Epoch 94: Train Loss = 5238624196.62, Val Loss = 4603661122.95\n",
      "Epoch 95: Train Loss = 5170540701.03, Val Loss = 4601862336.98\n",
      "Epoch 96: Train Loss = 5138136061.36, Val Loss = 4597306911.51\n",
      "Epoch 97: Train Loss = 5115485905.81, Val Loss = 4595069605.42\n",
      "Epoch 98: Train Loss = 5109487990.10, Val Loss = 4597561182.52\n",
      "Epoch 99: Train Loss = 5088647282.80, Val Loss = 4596845189.91\n",
      "Epoch 100: Train Loss = 5095236076.21, Val Loss = 4593176977.72\n"
     ]
    }
   ],
   "source": [
    "import torch.optim as optim\n",
    "\n",
    "# Fonction de perte pour la régression\n",
    "criterion = nn.MSELoss()\n",
    "\n",
    "# Optimiseur avec L2 regularization (optionnel)\n",
    "optimizer = optim.Adam(model.parameters(), lr=0.001, weight_decay=1e-5)\n",
    "\n",
    "# Entraînement\n",
    "train_losses = []\n",
    "val_losses = []\n",
    "\n",
    "n_epochs = 100\n",
    "for epoch in range(n_epochs):\n",
    "    model.train()\n",
    "    train_loss = 0\n",
    "    for X_batch, y_batch in train_loader:\n",
    "        optimizer.zero_grad()\n",
    "        output = model(X_batch)\n",
    "        loss = criterion(output, y_batch)\n",
    "        loss.backward()\n",
    "        optimizer.step()\n",
    "        train_loss += loss.item()\n",
    "    \n",
    "    model.eval()\n",
    "    val_loss = 0\n",
    "    with torch.no_grad():\n",
    "        for X_val_batch, y_val_batch in val_loader:\n",
    "            val_output = model(X_val_batch)\n",
    "            val_loss += criterion(val_output, y_val_batch).item()\n",
    "\n",
    "    avg_train_loss = train_loss / len(train_loader)\n",
    "    avg_val_loss = val_loss / len(val_loader)\n",
    "\n",
    "    train_losses.append(avg_train_loss)\n",
    "    val_losses.append(avg_val_loss)\n",
    "\n",
    "    print(f\"Epoch {epoch+1}: Train Loss = {avg_train_loss:.2f}, Val Loss = {avg_val_loss:.2f}\")\n"
   ]
  },
  {
   "cell_type": "markdown",
   "id": "6103a466-b61d-4bc8-9895-1ff6d7a07490",
   "metadata": {},
   "source": [
    "### Questions – Étape 4\n",
    "\n",
    "**Pourquoi utiliser MSELoss pour ce problème ?**  \n",
    "`MSELoss` (Mean Squared Error) est la fonction la plus courante pour les problèmes de régression, car elle pénalise fortement les grandes erreurs.\n",
    "\n",
    "**Pourquoi utilise-t-on Adam comme optimiseur ?**  \n",
    "Adam combine les avantages d’AdaGrad et RMSprop. Il adapte dynamiquement le taux d’apprentissage pour chaque paramètre.\n",
    "\n",
    "**Pourquoi surveiller la perte sur l’ensemble de validation ?**  \n",
    "Pour détecter le surapprentissage. Si la perte sur validation augmente pendant que celle de l’entraînement diminue, cela signifie que le modèle commence à surajuster les données.\n"
   ]
  },
  {
   "cell_type": "markdown",
   "id": "9789f980-475e-4e1e-a6b0-a89812c97037",
   "metadata": {},
   "source": [
    "## Étape 5 – Tracer la courbe de perte (Loss Curve)"
   ]
  },
  {
   "cell_type": "code",
   "execution_count": 34,
   "id": "94fe0e97-7718-42c3-b2bb-69765215b1e0",
   "metadata": {},
   "outputs": [
    {
     "data": {
      "image/png": "[encoded data removed]",
      "text/plain": [
       "<Figure size 800x500 with 1 Axes>"
      ]
     },
     "metadata": {},
     "output_type": "display_data"
    }
   ],
   "source": [
    "import matplotlib.pyplot as plt\n",
    "\n",
    "plt.figure(figsize=(8,5))\n",
    "plt.plot(train_losses, label=\"Train Loss\")\n",
    "plt.plot(val_losses, label=\"Validation Loss\")\n",
    "plt.xlabel(\"Epochs\")\n",
    "plt.ylabel(\"MSE Loss\")\n",
    "plt.title(\"Courbe de Perte – Régression\")\n",
    "plt.legend()\n",
    "plt.grid(True)\n",
    "plt.show()\n"
   ]
  },
  {
   "cell_type": "markdown",
   "id": "09a94025-44ca-44c1-b08c-7170e55eb061",
   "metadata": {},
   "source": [
    "### Questions – Étape 5\n",
    "\n",
    "**Comment interpréter la courbe de perte ?**  \n",
    "- Si les deux courbes diminuent, le modèle apprend bien.\n",
    "- Si la courbe de validation stagne ou augmente alors que celle d'entraînement continue de baisser → surapprentissage (overfitting).\n",
    "- Si les deux courbes stagnent à un niveau élevé → sous-apprentissage (underfitting).\n",
    "\n",
    "**Comment peut-on améliorer la performance si la perte de validation augmente ?**  \n",
    "- Ajouter du dropout\n",
    "- Réduire la complexité du modèle\n",
    "- Utiliser EarlyStopping\n",
    "- Ajouter plus de données\n",
    "- Réduire le taux d’apprentissage\n"
   ]
  },
  {
   "cell_type": "markdown",
   "id": "03a2929a-9f1e-47f2-b16c-cf9e73750d96",
   "metadata": {},
   "source": [
    "## Étape 6 – Évaluation finale sur le test set"
   ]
  },
  {
   "cell_type": "code",
   "execution_count": 39,
   "id": "8a53ade0-cf83-42b6-bb59-5bb4380ee511",
   "metadata": {},
   "outputs": [
    {
     "name": "stdout",
     "output_type": "stream",
     "text": [
      "Test MSE  : 4507042521.85\n",
      "Test R²   : 0.6713\n"
     ]
    }
   ],
   "source": [
    "from sklearn.metrics import mean_squared_error, r2_score\n",
    "\n",
    "# Passage en mode évaluation\n",
    "model.eval()\n",
    "\n",
    "y_true = []\n",
    "y_pred = []\n",
    "\n",
    "with torch.no_grad():\n",
    "    for X_batch, y_batch in test_loader:\n",
    "        outputs = model(X_batch)\n",
    "        y_pred.extend(outputs.numpy())\n",
    "        y_true.extend(y_batch.numpy())\n",
    "\n",
    "# Calcul des métriques\n",
    "mse = mean_squared_error(y_true, y_pred)\n",
    "r2 = r2_score(y_true, y_pred)\n",
    "\n",
    "print(f\"Test MSE  : {mse:.2f}\")\n",
    "print(f\"Test R²   : {r2:.4f}\")\n"
   ]
  },
  {
   "cell_type": "markdown",
   "id": "aaa45127-04a5-49b5-928c-7e2b1d350801",
   "metadata": {},
   "source": [
    "### Questions – Étape 6\n",
    "\n",
    "**Pourquoi utiliser le MSE sur le test set ?**  \n",
    "Parce que c’est la même fonction que celle utilisée à l'entraînement. Elle permet de mesurer l’erreur quadratique moyenne entre les vraies valeurs et les prédictions.\n",
    "\n",
    "**Que représente le R² ?**  \n",
    "Le R² (coefficient de détermination) mesure la proportion de la variance expliquée par le modèle.  \n",
    "- R² = 1 : prédictions parfaites  \n",
    "- R² = 0 : le modèle ne fait pas mieux qu’une moyenne  \n",
    "- R² < 0 : le modèle est pire qu’une prédiction constante\n",
    "\n",
    "**Un R² négatif est-il possible ?**  \n",
    "Oui. Cela signifie que le modèle est moins performant qu’un modèle naïf qui prédirait simplement la moyenne des valeurs cibles.\n",
    "\n",
    "**Que faire si le MSE est élevé et le R² faible ?**  \n",
    "- Revoir la normalisation\n",
    "- Tester une architecture plus simple ou plus profonde\n",
    "- Vérifier le surapprentissage\n",
    "- Ajouter des variables explicatives pertinentes\n"
   ]
  },
  {
   "cell_type": "code",
   "execution_count": null,
   "id": "46930361-c1b4-43d0-aeeb-35f66c22a66a",
   "metadata": {},
   "outputs": [],
   "source": []
  }
 ],
 "metadata": {},
 "nbformat": 4,
 "nbformat_minor": 5
}
